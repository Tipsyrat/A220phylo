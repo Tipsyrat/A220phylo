{
  "nbformat": 4,
  "nbformat_minor": 0,
  "metadata": {
    "colab": {
      "provenance": [],
      "authorship_tag": "ABX9TyOOSxL/vPxjPuC34VEH6Cag",
      "include_colab_link": true
    },
    "kernelspec": {
      "name": "python3",
      "display_name": "Python 3"
    },
    "language_info": {
      "name": "python"
    }
  },
  "cells": [
    {
      "cell_type": "markdown",
      "metadata": {
        "id": "view-in-github",
        "colab_type": "text"
      },
      "source": [
        "<a href=\"https://colab.research.google.com/github/Tipsyrat/A220phylo/blob/main/A220_Establishing_relationship.ipynb\" target=\"_parent\"><img src=\"https://colab.research.google.com/assets/colab-badge.svg\" alt=\"Open In Colab\"/></a>"
      ]
    },
    {
      "cell_type": "markdown",
      "source": [
        "#Introduction\n",
        "\n",
        "In lesson 1, we learned how the need to identify specific species accurately has led to the classification of organisms according to their evolutionary relationships. </br>\n",
        "\n",
        "First and foremost, organisms are arranged into ranks based on trait similarities (homologies) that reflect evolutionary relationships. Subsequently, this led another group of scientists, known as systematics to hypothesise evolutionary relationships based on patterns of similarities. We learned that systematists use phylogenetic trees or graphically represent hypothesised evolutionary relationships. </br>\n",
        "\n",
        "In this self-directed exercise, you will:\n",
        "### Part 1: Understanding phylogeny </br>\n",
        "  - revisit the components of a phylogenetic tree\n",
        "  - examine the different methods of representing phylogeny\n",
        "  - learn how to interpret the evolutionary relationship on a phylogenetic tree\n",
        "  - understand how to a phylogenetic tree can be constructed </br>\n",
        "\n",
        "### Part 2: Phylogeny from morphological data </br>\n",
        "  - appreciate how morphological traits are quantified\n",
        "  - follow through steps in constructing phylogeney using morphological data </br>\n",
        "\n",
        "### Part 3: Phylogeny from molecular data </br>\n",
        "  - appreciate how genetic traits are quantified\n",
        "  - follow through steps in constructing phylogeny using morphological data\n",
        "\n",
        "### Part 4: Comparing phylogenies from morphological and molecular data\n",
        "  - compare the similarities and differences between the phylogenies\n",
        "  - reflect on the causes of differences and how phylogeny can be better constructed"
      ],
      "metadata": {
        "id": "Hooxdro842tZ"
      }
    },
    {
      "cell_type": "markdown",
      "source": [
        "# Part 1: Understanding Phylogeny"
      ],
      "metadata": {
        "id": "D77NJ603FAGb"
      }
    }
  ]
}