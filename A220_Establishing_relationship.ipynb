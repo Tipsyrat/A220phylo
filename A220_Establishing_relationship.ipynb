{
  "nbformat": 4,
  "nbformat_minor": 0,
  "metadata": {
    "colab": {
      "provenance": [],
      "authorship_tag": "ABX9TyPUTordhQnlPETysRY7tN0W",
      "include_colab_link": true
    },
    "kernelspec": {
      "name": "ir",
      "display_name": "R"
    },
    "language_info": {
      "name": "R"
    }
  },
  "cells": [
    {
      "cell_type": "markdown",
      "metadata": {
        "id": "view-in-github",
        "colab_type": "text"
      },
      "source": [
        "<a href=\"https://colab.research.google.com/github/Tipsyrat/A220phylo/blob/main/A220_Establishing_relationship.ipynb\" target=\"_parent\"><img src=\"https://colab.research.google.com/assets/colab-badge.svg\" alt=\"Open In Colab\"/></a>"
      ]
    },
    {
      "cell_type": "markdown",
      "source": [
        "#Introduction\n",
        "\n",
        "In lesson 1, we learned how the need to identify specific species accurately has led to the classification of organisms according to their evolutionary relationships. </br>\n",
        "\n",
        "First and foremost, organisms are arranged into ranks based on trait similarities (homologies) that reflect evolutionary relationships. Subsequently, this led another group of scientists, known as systematics to hypothesise evolutionary relationships based on patterns of similarities. We learned that systematists use phylogenetic trees or graphically represent hypothesised evolutionary relationships. </br>\n",
        "\n",
        "---\n",
        "\n",
        "In this self-directed exercise, you will:\n",
        "### Part 1: Understanding phylogeny </br>\n",
        "  - revisit the components of a phylogenetic tree\n",
        "  - examine the different methods of representing phylogeny\n",
        "  - learn how to interpret the evolutionary relationship on a phylogenetic tree\n",
        "  - understand how to a phylogenetic tree can be constructed </br>\n",
        "\n",
        "### Part 2: Phylogeny from morphological data </br>\n",
        "  - appreciate how morphological traits are quantified\n",
        "  - follow through steps in constructing phylogeney using morphological data </br>\n",
        "\n",
        "### Part 3: Phylogeny from molecular data </br>\n",
        "  - appreciate how genetic traits are quantified\n",
        "  - follow through steps in constructing phylogeny using morphological data\n",
        "\n",
        "### Part 4: Comparing phylogenies from morphological and molecular data\n",
        "  - compare the similarities and differences between the phylogenies\n",
        "  - reflect on the causes of differences and how phylogeny can be better constructed\n",
        "\n",
        "\n",
        "  ---\n",
        "\n",
        "  To begin, run the Admin code run by hitting SHIFT + ENTER when hover your cursor over the codes cell OR clicking the ![image.png](data:image/png;base64,iVBORw0KGgoAAAANSUhEUgAAACkAAAAkCAYAAAAU/hMoAAAAAXNSR0IArs4c6QAAAARnQU1BAACxjwv8YQUAAAAJcEhZcwAAEnQAABJ0Ad5mH3gAAAImSURBVFhH7Zexq6lhHMe/51ylDMqilI2UWFiUzWZBKRabjVUxqVsmBiObPwATi82mLAxMYlPKomyizul3zu90b+d4nN/z0r3uzWfxPt/49u31PL/3+z4lk8kX3DnP/HnXPELeikfIW/EIeSuunpNOpxOBQAButxt2ux1msxmHwwHb7RbL5RLT6RTr9Zq/bQzDIV0uF+LxOILBICtqJpMJer0eVqsVK3oYChmLxZBOp3klp91uo9/v80rOD6/X+5OvRWQyGSQSCV7p4fP5YLFYMJvNWJGhdXDoDkajUV4Zg35PPjqIQ9IeVP3F4/GYr2SQD/lJEYekQ6Jiv9+jUqlgPp+z8j2X/D4jCklj5rtTvFgsUK1W0Ww2sdlsWFVDfuQrQRSS5qCU0WiEYrGITqeD4/HI6nmkvqKQNKh1oblYKBQwHA5Z+YrUVxSSniRG2O12aLVayv0q9RWFpEfdNXzs10ajwco7Ul9RSHoWX4PH40GpVEI+n2flHamvKCSVBSPYbDZks1mUy2X4/X5WfyH1FYWkNqMLzcF6vY5IJMLKV6S+opBUt6SEw2HUajWkUimYTCZWzyP1FYWkPkh16xIf+y6Xy8HhcLCqhvykPVMUkqC5p8JqtSr3nYpLfp8Rh6TCSn3wHKFQiK9kkI9OARaHJKiwDgYDXhmDfq9bfLVLLxXW0+n0VmB1oTvY7XZ5Jef/fcf5nbt+W/yTaB2cv8Uj5K34B0ICrzvI2PPZynEnAAAAAElFTkSuQmCC) on the left most corner of the codes cell.\n",
        "  "
      ],
      "metadata": {
        "id": "Hooxdro842tZ"
      }
    },
    {
      "cell_type": "code",
      "source": [
        "#@title Admin code run\n",
        "install.packages(\"ape\")\n",
        "install.packages(\"phangorn\")\n",
        "require(ape)\n",
        "require(phangorn)"
      ],
      "metadata": {
        "id": "A8EyCYLKbTIs",
        "outputId": "af1fc6a9-c90c-44bd-c7b9-794b1295fd76",
        "colab": {
          "base_uri": "https://localhost:8080/"
        }
      },
      "execution_count": null,
      "outputs": [
        {
          "output_type": "stream",
          "name": "stderr",
          "text": [
            "Installing package into ‘/usr/local/lib/R/site-library’\n",
            "(as ‘lib’ is unspecified)\n",
            "\n",
            "Installing package into ‘/usr/local/lib/R/site-library’\n",
            "(as ‘lib’ is unspecified)\n",
            "\n",
            "also installing the dependency ‘igraph’\n",
            "\n",
            "\n"
          ]
        }
      ]
    },
    {
      "cell_type": "markdown",
      "source": [
        "# 1: Understanding Phylogeny\n",
        "\n",
        "### **Introduction**\n",
        "\n",
        "In this lesson, we will revisit the components of a phylogenetic tree, examine different methods of representing phylogeny, learn how to interpret evolutionary relationships on a phylogenetic tree, and understand how a phylogenetic tree can be constructed.\n",
        "\n",
        "## 1.1: Components of a Phylogenetic Tree\n",
        "\n",
        "Let's begin by visualising a randomly generated phylogenetic tree.\n",
        "\n",
        "Generate a random phylogenetic tree by  by hitting SHIFT + ENTER when hover your cursor over the codes cell OR clicking the ![image.png](data:image/png;base64,iVBORw0KGgoAAAANSUhEUgAAACkAAAAkCAYAAAAU/hMoAAAAAXNSR0IArs4c6QAAAARnQU1BAACxjwv8YQUAAAAJcEhZcwAAEnQAABJ0Ad5mH3gAAAImSURBVFhH7Zexq6lhHMe/51ylDMqilI2UWFiUzWZBKRabjVUxqVsmBiObPwATi82mLAxMYlPKomyizul3zu90b+d4nN/z0r3uzWfxPt/49u31PL/3+z4lk8kX3DnP/HnXPELeikfIW/EIeSuunpNOpxOBQAButxt2ux1msxmHwwHb7RbL5RLT6RTr9Zq/bQzDIV0uF+LxOILBICtqJpMJer0eVqsVK3oYChmLxZBOp3klp91uo9/v80rOD6/X+5OvRWQyGSQSCV7p4fP5YLFYMJvNWJGhdXDoDkajUV4Zg35PPjqIQ9IeVP3F4/GYr2SQD/lJEYekQ6Jiv9+jUqlgPp+z8j2X/D4jCklj5rtTvFgsUK1W0Ww2sdlsWFVDfuQrQRSS5qCU0WiEYrGITqeD4/HI6nmkvqKQNKh1oblYKBQwHA5Z+YrUVxSSniRG2O12aLVayv0q9RWFpEfdNXzs10ajwco7Ul9RSHoWX4PH40GpVEI+n2flHamvKCSVBSPYbDZks1mUy2X4/X5WfyH1FYWkNqMLzcF6vY5IJMLKV6S+opBUt6SEw2HUajWkUimYTCZWzyP1FYWkPkh16xIf+y6Xy8HhcLCqhvykPVMUkqC5p8JqtSr3nYpLfp8Rh6TCSn3wHKFQiK9kkI9OARaHJKiwDgYDXhmDfq9bfLVLLxXW0+n0VmB1oTvY7XZ5Jef/fcf5nbt+W/yTaB2cv8Uj5K34B0ICrzvI2PPZynEnAAAAAElFTkSuQmCC) on the left most corner of the codes cell.\n",
        "\n"
      ],
      "metadata": {
        "id": "D77NJ603FAGb"
      }
    },
    {
      "cell_type": "code",
      "source": [
        "#@title Generate a random phylogenetic tree\n",
        "# set seed to ensure the same tree is produced\n",
        "set.seed(0210)\n",
        "# generate a tree\n",
        "tree <- rtree(n = 7, tip.label = c(LETTERS[1:7]))\n",
        "branch_colours <- rep(\"black\", nrow(tree$edge))\n",
        "branch_colours[tree$edge[, 2] == which(tree$tip.label == \"G\")] <- \"red\"\n",
        "plot(tree, use.edge.length = FALSE,edge.color = branch_colours)\n",
        "nodelabels(text=c(1:6))\n"
      ],
      "metadata": {
        "cellView": "form",
        "id": "BuudLBvAc88j"
      },
      "execution_count": null,
      "outputs": []
    },
    {
      "cell_type": "markdown",
      "source": [
        "The randomly generated tree consists of several key components that reflect evolutionary relationships.\n",
        "\n",
        "Firstly, at the **TIPS** of the tree, labeled with the letters A to G, are the **TERMINAL NODES**, which represent the existing species or taxa being analysed. These are the points where the tree branches terminate, symbolising the most recent members in the lineage.\n",
        "\n",
        "The tree also includes **BRANCHES**, or edges, which are the lines connecting the nodes to the tips and other nodes. These branches represent the evolutionary pathways that link different species or taxa, showing how they have diverged from common ancestors over time.\n",
        "\n",
        "Within the tree, there are several **INTERNAL NODES**, labeled with the numbers 2 to 6. These internal nodes represent hypothetical common ancestors from which the descendant species or taxa have evolved. Each internal node is a point where a branch splits, indicating a divergence event in evolutionary history.\n",
        "\n",
        "The tree has a **ROOT**, which is labeled as node 1, representing the last common ancestor of all the species depicted in the tree. The root is the starting point from which the entire tree grows.\n",
        "\n",
        "Together, the tips, branches, nodes, and root of the tree form **MONOPHYLETIC CLADES**, which are groups of organisms that include a common ancestor and all its descendants. By tracing from any internal node to its descendant tips, one can identify clades within the tree. The tree generated by this code is unscaled, meaning the branch lengths do not represent time or the amount of evolutionary change, focusing instead on the topology, or the branching pattern, of the evolutionary relationships."
      ],
      "metadata": {
        "id": "ADKcq0PzcvKL"
      }
    }
  ]
}